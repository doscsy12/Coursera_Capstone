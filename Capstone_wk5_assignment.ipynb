{
 "cells": [
  {
   "cell_type": "markdown",
   "metadata": {
    "collapsed": true
   },
   "source": [
    "<strong> Capstone project - week 5 </strong>\n",
    "\n",
    "<b> Introduction </b>\n",
    "\n",
    "Access to health care services is important in maintaining health, preventing/ managing disease, and reducing premature death.   This means that availability and timely use of primary health services is needed; Accessing a location (or geographic availability) where needed health care services are provided is one factor in achieving a successful outcome for ill patients.\n",
    "\n",
    "<b> Problem: </b> \n",
    "\n",
    "A person suddenly falls ill with symptoms similar to flu, yet he/she cannot be sure it is not covid19. Given the current health climate (early on before borders were closed and travel restrictions were imposed), he/she cannot wait for a doctor’s appointment, but the emergency services might not be necessary (yet!). Where should one (in a specific borough/neighbourhood) go first to get a primary diagnosis? \n"
   ]
  },
  {
   "cell_type": "markdown",
   "metadata": {},
   "source": [
    "<b> Justification: </b> \n",
    "\n",
    "Firstly, since I am in healthcare, this is an issue that is important to me. \n",
    "Secondly, a person may just have the cold/flu since it is flu season after all. However, you do not want everybody with some flu-like symptoms to overwhelm emergency services/hospitals. \n",
    "So, one would like to know where the primary care providers are in each boroughs/neighbourhood , and to advise people from that borough/neighbourhood to visit those facilities first. Then, they can be transferred to hospitals/emergency services, if necessary. \n",
    "If there is a lack of primary care providers in rural areas, then they can be advised to visit clinics in adjacent neighbourhoods. One example of this is in Norway, where government officials advise residents not to visit their huts, so as not to overwhelm health services in out-of-reach places. But if one so happen to be in a secluded area, where would one go to receive medical services? "
   ]
  },
  {
   "cell_type": "code",
   "execution_count": null,
   "metadata": {},
   "outputs": [],
   "source": []
  },
  {
   "cell_type": "markdown",
   "metadata": {},
   "source": [
    "<b> Data </b>\n",
    "\n",
    "Foursquare API will be utilised to pull the location data in New York. (New York would be used, as I found few venue data in Scandinavia countries)\n",
    "\n",
    "<b> Data required: </b>\n",
    "\n",
    "Venue Name\n",
    "\n",
    "Venue Location\n",
    "\n",
    "Venue Category\n",
    "\n",
    "Venue Description\n"
   ]
  },
  {
   "cell_type": "markdown",
   "metadata": {},
   "source": [
    "<b> General approach for data processing: </b>\n",
    "Approach stated below is approximate, it may change when actual coding and results were done/received.\n",
    "\n",
    "part 1: general idea of where medical health services are \n",
    "1. Data of New York will be utilised/loaded. \n",
    "2. Data will be transformed into pandas (Borough, Neighbourhood, Latitude and Longitude). These parameters are important to find locations of health care facilities in specific Borough/Neighbourhoods with Latitude and Longitude coordinates (for plotting maps).\n",
    "3. Find venues in New York within a certain radius and a limited number.\n",
    "4. Use get_category_type to filter venue.category to just 'clinic', 'medical centre'\n",
    "5. Determine how many venues were found in Foursquare\n",
    "6. If (5) resulted in 0 (no results), (4) will be repeated including 'hospital'\n",
    "\n",
    "part 2: aggregating medical health services within certain clusters (neighbourhoods), and analyse each neighbourhood\n",
    "1. New York data will be groupby borough/neighbourhood, and/or Latitude and Longitude coordinates \n",
    "2. Find venues in New York within a certain radius and a limited number.\n",
    "3. Use get_category_type to filter venue.category to just 'clinic', 'medical centre', and 'hospital' if necessary\n",
    "4. Determine how many venues were found in Foursquare in each borough/neighbourhood.\n",
    "5. Rank each neighbourhood according to venues\n",
    "6. Find data for approximate number of residents in each borough/neighbourhood.\n",
    "7. How many medical facilities are there per 1000 residents.\n",
    "\n"
   ]
  },
  {
   "cell_type": "code",
   "execution_count": null,
   "metadata": {},
   "outputs": [],
   "source": []
  }
 ],
 "metadata": {
  "kernelspec": {
   "display_name": "Python 3.6",
   "language": "python",
   "name": "python3"
  },
  "language_info": {
   "codemirror_mode": {
    "name": "ipython",
    "version": 3
   },
   "file_extension": ".py",
   "mimetype": "text/x-python",
   "name": "python",
   "nbconvert_exporter": "python",
   "pygments_lexer": "ipython3",
   "version": "3.6.9"
  }
 },
 "nbformat": 4,
 "nbformat_minor": 1
}
